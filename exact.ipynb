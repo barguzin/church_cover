{
 "cells": [
  {
   "cell_type": "code",
   "execution_count": 1,
   "metadata": {},
   "outputs": [],
   "source": [
    "import numpy as np\n",
    "import pandas as pd\n",
    "import matplotlib.pyplot as plt\n",
    "#import pickle\n",
    "import pickle5 as pickle\n",
    "from gurobipy import *\n",
    "from gurobipy import GRB\n",
    "import time\n",
    "import csv\n",
    "from collections import defaultdict\n",
    "import sys\n",
    "import re"
   ]
  },
  {
   "cell_type": "code",
   "execution_count": 2,
   "metadata": {},
   "outputs": [
    {
     "name": "stdout",
     "output_type": "stream",
     "text": [
      "(831, 1)\n",
      "(3548, 2)\n",
      "(831, 3548)\n"
     ]
    }
   ],
   "source": [
    "# read facility points\n",
    "facility = pd.read_csv('data/facility.csv')\n",
    "print(facility.shape)\n",
    "\n",
    "# read demand\n",
    "demand = pd.read_csv('data/demand.csv')\n",
    "print(demand.shape)\n",
    "\n",
    "# read distance matrix\n",
    "distance_matrix = np.genfromtxt('data/dist.txt')\n",
    "print(distance_matrix.shape)"
   ]
  },
  {
   "cell_type": "code",
   "execution_count": 3,
   "metadata": {},
   "outputs": [
    {
     "data": {
      "text/html": [
       "<div>\n",
       "<style scoped>\n",
       "    .dataframe tbody tr th:only-of-type {\n",
       "        vertical-align: middle;\n",
       "    }\n",
       "\n",
       "    .dataframe tbody tr th {\n",
       "        vertical-align: top;\n",
       "    }\n",
       "\n",
       "    .dataframe thead th {\n",
       "        text-align: right;\n",
       "    }\n",
       "</style>\n",
       "<table border=\"1\" class=\"dataframe\">\n",
       "  <thead>\n",
       "    <tr style=\"text-align: right;\">\n",
       "      <th></th>\n",
       "      <th>geo_id</th>\n",
       "      <th>flat_cnt</th>\n",
       "    </tr>\n",
       "  </thead>\n",
       "  <tbody>\n",
       "    <tr>\n",
       "      <th>0</th>\n",
       "      <td>0</td>\n",
       "      <td>80.0</td>\n",
       "    </tr>\n",
       "    <tr>\n",
       "      <th>1</th>\n",
       "      <td>1</td>\n",
       "      <td>149.0</td>\n",
       "    </tr>\n",
       "    <tr>\n",
       "      <th>2</th>\n",
       "      <td>2</td>\n",
       "      <td>16.0</td>\n",
       "    </tr>\n",
       "    <tr>\n",
       "      <th>3</th>\n",
       "      <td>3</td>\n",
       "      <td>83.0</td>\n",
       "    </tr>\n",
       "    <tr>\n",
       "      <th>4</th>\n",
       "      <td>4</td>\n",
       "      <td>20.0</td>\n",
       "    </tr>\n",
       "  </tbody>\n",
       "</table>\n",
       "</div>"
      ],
      "text/plain": [
       "   geo_id  flat_cnt\n",
       "0       0      80.0\n",
       "1       1     149.0\n",
       "2       2      16.0\n",
       "3       3      83.0\n",
       "4       4      20.0"
      ]
     },
     "execution_count": 3,
     "metadata": {},
     "output_type": "execute_result"
    }
   ],
   "source": [
    "demand.head()"
   ]
  },
  {
   "cell_type": "code",
   "execution_count": 4,
   "metadata": {},
   "outputs": [],
   "source": [
    "# fill in NAs \n",
    "demand.fillna(0, inplace=True)"
   ]
  },
  {
   "cell_type": "code",
   "execution_count": 5,
   "metadata": {},
   "outputs": [],
   "source": [
    "# prep matrix to dict \n",
    "\n",
    "def get_covered(r):\n",
    "    \"\"\"For each facility find the demand points that are covered given \n",
    "    a distance threshold radius (r)\n",
    "    \n",
    "    r(int) - radius \n",
    "\n",
    "    saves: covered in dict format like so:\n",
    "    1: [1,2,3]\n",
    "    2: [1]\n",
    "\n",
    "    \"\"\"\n",
    "    dist_matrix = np.genfromtxt('data/dist.txt')\n",
    "\n",
    "    print(dist_matrix.shape)\n",
    "\n",
    "    rows = dist_matrix.shape[0]\n",
    "    cols = dist_matrix.shape[1]\n",
    "\n",
    "    lst_array = []\n",
    "    #dict_fac = {}\n",
    "    dict_fac = defaultdict(list)\n",
    "    dict_dem = {}\n",
    "\n",
    "    for i in range(0,rows): # for each potential facility (n=100)\n",
    "        for j in range(0,cols): # for each demand point (n=50)\n",
    "            lst_array.append([i,j,dist_matrix[i,j]])\n",
    "            #print(i, j, dist_matrix[i,j])\n",
    "            \n",
    "            # if within threshold add to dictionary \n",
    "            if dist_matrix[i,j]<=r: \n",
    "                dict_fac[i].append(j)\n",
    "    \n",
    "    with open('data/covered.pickle', 'wb') as handle:\n",
    "        pickle.dump(dict_fac, handle, protocol=pickle.HIGHEST_PROTOCOL)"
   ]
  },
  {
   "cell_type": "code",
   "execution_count": 6,
   "metadata": {},
   "outputs": [
    {
     "name": "stdout",
     "output_type": "stream",
     "text": [
      "(831, 3548)\n"
     ]
    }
   ],
   "source": [
    "get_covered(1000)"
   ]
  },
  {
   "cell_type": "code",
   "execution_count": 7,
   "metadata": {},
   "outputs": [
    {
     "name": "stdout",
     "output_type": "stream",
     "text": [
      "751\n"
     ]
    }
   ],
   "source": [
    "with open('data/covered.pickle', 'rb') as handle:\n",
    "        coverage = pickle.load(handle)\n",
    "\n",
    "# convert to sets \n",
    "dict_set = defaultdict(set)\n",
    "for k,v in coverage.items():\n",
    "    for i in v: \n",
    "        dict_set[k].add(i)\n",
    "\n",
    "print(len(dict_set))"
   ]
  },
  {
   "cell_type": "code",
   "execution_count": 8,
   "metadata": {},
   "outputs": [
    {
     "data": {
      "text/plain": [
       "751"
      ]
     },
     "execution_count": 8,
     "metadata": {},
     "output_type": "execute_result"
    }
   ],
   "source": [
    "len(coverage.keys())"
   ]
  },
  {
   "cell_type": "code",
   "execution_count": 13,
   "metadata": {},
   "outputs": [
    {
     "name": "stdout",
     "output_type": "stream",
     "text": [
      "3548\n"
     ]
    }
   ],
   "source": [
    "import gurobipy as gp\n",
    "\n",
    "dd = {}\n",
    "for index, row in demand.iterrows():\n",
    "    dd[row['geo_id'].astype('int')] = row['flat_cnt'].astype('int')\n",
    "print(len(dd))\n",
    "\n",
    "regions, population = gp.multidict(dd)\n",
    "\n",
    "J = distance_matrix.shape[0] # demand points\n",
    "I = distance_matrix.shape[1] # fac locations\n",
    "\n",
    "mask_1 = distance_matrix <= 1000 \n",
    "distance_matrix[mask_1] = 1\n",
    "distance_matrix[~mask_1] = 0\n",
    "\n",
    "p = 18\n",
    "r = 1000\n"
   ]
  },
  {
   "cell_type": "code",
   "execution_count": 14,
   "metadata": {},
   "outputs": [
    {
     "name": "stdout",
     "output_type": "stream",
     "text": [
      "3548\n",
      "3548\n"
     ]
    }
   ],
   "source": [
    "print(len(population))\n",
    "print(len(regions))"
   ]
  },
  {
   "cell_type": "code",
   "execution_count": 15,
   "metadata": {},
   "outputs": [],
   "source": [
    "# def solve_exact(p_tosite):\n",
    "#     '''Solves the MCLP problem exactly using the Gurobi solver\n",
    "    \n",
    "#     Inputs:\n",
    "#         r - raidius of coverage \n",
    "#         p - number of facilities \n",
    "\n",
    "#     '''\n",
    "\n",
    "#     orig_stdout = sys.stdout\n",
    "#     f = open('out2.txt', 'w')\n",
    "#     sys.stdout = f\n",
    "\n",
    "#     start = time.time()\n",
    "\n",
    "#     m = gp.Model(\"cover_spam\")\n",
    "\n",
    "#     # add variables \n",
    "#     build = m.addVars(J, vtype=GRB.BINARY, name=\"Build\")\n",
    "#     is_covered = m.addVars(I, vtype=GRB.BINARY, name=\"Is_covered\")\n",
    "\n",
    "#     #sites, coverage = gp.multidict({coverage1.keys(), coverage1.values()}) #dict_set.keys(), dict_set.values() #gp.multidict(dict_set)\n",
    "#     coverage = dict_set\n",
    "#     sites = np.arange(0,J)\n",
    "#     #print('coverage', coverage)\n",
    "\n",
    "#     m.addConstrs((gp.quicksum(build[t] for t in sites if r in coverage[t]) >= is_covered[r]\n",
    "#                         for r in regions), name=\"Build2cover\")\n",
    "\n",
    "#     m.addConstr(gp.quicksum(build[t] for t in sites) <= p_tosite, name=\"p_tosite\")\n",
    "#     #m.addConstr(sum(build) <= p_tosite)\n",
    "\n",
    "#     m.setObjective(is_covered.prod(population), GRB.MAXIMIZE)\n",
    "\n",
    "#     m.optimize() \n",
    "\n",
    "#     end = time.time()\n",
    "\n",
    "#     print('---------------------------')\n",
    "#     print('  Running time : %s seconds' % float(end-start))\n",
    "#     print('  Optimal coverage points: %g' % m.objVal)\n",
    "\n",
    "#     sys.stdout = orig_stdout\n",
    "#     f.close()\n",
    "\n",
    "#     return m\n",
    "\n"
   ]
  },
  {
   "cell_type": "code",
   "execution_count": 20,
   "metadata": {},
   "outputs": [
    {
     "name": "stdout",
     "output_type": "stream",
     "text": [
      "Gurobi Optimizer version 9.5.1 build v9.5.1rc2 (win64)\n",
      "Thread count: 12 physical cores, 24 logical processors, using up to 24 threads\n",
      "Optimize a model with 3549 rows, 4379 columns and 77908 nonzeros\n",
      "Model fingerprint: 0xc08566cd\n",
      "Variable types: 0 continuous, 4379 integer (4379 binary)\n",
      "Coefficient statistics:\n",
      "  Matrix range     [1e+00, 1e+00]\n",
      "  Objective range  [1e+00, 1e+03]\n",
      "  Bounds range     [1e+00, 1e+00]\n",
      "  RHS range        [2e+01, 2e+01]\n",
      "Found heuristic solution: objective -0.0000000\n",
      "Presolve removed 1316 rows and 1707 columns\n",
      "Presolve time: 0.11s\n",
      "Presolved: 2233 rows, 2672 columns, 44294 nonzeros\n",
      "Variable types: 0 continuous, 2672 integer (2672 binary)\n",
      "Found heuristic solution: objective 158312.00000\n",
      "\n",
      "Root relaxation: objective 3.540270e+05, 3116 iterations, 0.18 seconds (0.28 work units)\n",
      "\n",
      "    Nodes    |    Current Node    |     Objective Bounds      |     Work\n",
      " Expl Unexpl |  Obj  Depth IntInf | Incumbent    BestBd   Gap | It/Node Time\n",
      "\n",
      "     0     0 354027.000    0  270 158312.000 354027.000   124%     -    0s\n",
      "H    0     0                    276445.00000 354027.000  28.1%     -    0s\n",
      "H    0     0                    293500.00000 354027.000  20.6%     -    0s\n",
      "     0     0 353884.750    0  356 293500.000 353884.750  20.6%     -    0s\n",
      "H    0     0                    349374.00000 353884.750  1.29%     -    0s\n",
      "H    0     0                    352029.00000 353884.750  0.53%     -    0s\n",
      "     0     0 353728.000    0  357 352029.000 353728.000  0.48%     -    0s\n",
      "     0     0 353728.000    0  358 352029.000 353728.000  0.48%     -    0s\n",
      "H    0     0                    352490.00000 353526.000  0.29%     -    0s\n",
      "     0     0 353526.000    0  377 352490.000 353526.000  0.29%     -    0s\n",
      "     0     0 353507.667    0  440 352490.000 353507.667  0.29%     -    0s\n",
      "     0     0 353481.667    0  440 352490.000 353481.667  0.28%     -    0s\n",
      "     0     0 353479.833    0  442 352490.000 353479.833  0.28%     -    0s\n",
      "H    0     0                    352516.00000 353479.833  0.27%     -    0s\n",
      "     0     0 353330.326    0  418 352516.000 353330.326  0.23%     -    0s\n",
      "     0     0 353328.000    0  471 352516.000 353328.000  0.23%     -    0s\n",
      "     0     0 353297.000    0  465 352516.000 353297.000  0.22%     -    0s\n",
      "H    0     0                    352989.00000 353158.800  0.05%     -    0s\n",
      "     0     0 353158.800    0  460 352989.000 353158.800  0.05%     -    0s\n",
      "     0     0 353144.810    0  463 352989.000 353144.810  0.04%     -    0s\n",
      "     0     0 353144.200    0  462 352989.000 353144.200  0.04%     -    0s\n",
      "     0     0 353092.714    0  462 352989.000 353092.714  0.03%     -    0s\n",
      "\n",
      "Cutting planes:\n",
      "  Gomory: 6\n",
      "  MIR: 8\n",
      "  Zero half: 26\n",
      "\n",
      "Explored 1 nodes (3735 simplex iterations) in 0.79 seconds (0.94 work units)\n",
      "Thread count was 24 (of 24 available processors)\n",
      "\n",
      "Solution count 9: 352989 352516 352490 ... -0\n",
      "\n",
      "Optimal solution found (tolerance 1.00e-04)\n",
      "Best objective 3.529890000000e+05, best bound 3.530210000000e+05, gap 0.0091%\n"
     ]
    }
   ],
   "source": [
    "p_tosite = 18\n",
    "\n",
    "m = gp.Model(\"cover_spam\")\n",
    "\n",
    "# add variables \n",
    "build = m.addVars(J, vtype=GRB.BINARY, name=\"Build\")\n",
    "is_covered = m.addVars(I, vtype=GRB.BINARY, name=\"Is_covered\")\n",
    "\n",
    "    #sites, coverage = gp.multidict({coverage1.keys(), coverage1.values()}) #dict_set.keys(), dict_set.values() #gp.multidict(dict_set)\n",
    "coverage = dict_set\n",
    "sites = np.arange(0,J)\n",
    "    #print('coverage', coverage)\n",
    "\n",
    "m.addConstrs((gp.quicksum(build[t] for t in sites if r in coverage[t]) >= is_covered[r]\n",
    "                        for r in regions), name=\"Build2cover\")\n",
    "\n",
    "m.addConstr(gp.quicksum(build[t] for t in sites) <= p_tosite, name=\"p_tosite\")\n",
    "    #m.addConstr(sum(build) <= p_tosite)\n",
    "\n",
    "m.setObjective(is_covered.prod(population), GRB.MAXIMIZE)\n",
    "\n",
    "m.optimize() "
   ]
  },
  {
   "cell_type": "code",
   "execution_count": 10,
   "metadata": {},
   "outputs": [],
   "source": [
    "#m = solve_exact(18)"
   ]
  },
  {
   "cell_type": "code",
   "execution_count": 21,
   "metadata": {},
   "outputs": [
    {
     "name": "stdout",
     "output_type": "stream",
     "text": [
      "352989.0\n"
     ]
    }
   ],
   "source": [
    "print(m.ObjVal)"
   ]
  },
  {
   "cell_type": "code",
   "execution_count": 24,
   "metadata": {},
   "outputs": [
    {
     "name": "stdout",
     "output_type": "stream",
     "text": [
      "\n",
      " Build a church at location #22.\n",
      "\n",
      " Build a church at location #163.\n",
      "\n",
      " Build a church at location #186.\n",
      "\n",
      " Build a church at location #253.\n",
      "\n",
      " Build a church at location #316.\n",
      "\n",
      " Build a church at location #353.\n",
      "\n",
      " Build a church at location #370.\n",
      "\n",
      " Build a church at location #376.\n",
      "\n",
      " Build a church at location #378.\n",
      "\n",
      " Build a church at location #428.\n",
      "\n",
      " Build a church at location #431.\n",
      "\n",
      " Build a church at location #490.\n",
      "\n",
      " Build a church at location #509.\n",
      "\n",
      " Build a church at location #553.\n",
      "\n",
      " Build a church at location #688.\n",
      "\n",
      " Build a church at location #707.\n",
      "\n",
      " Build a church at location #813.\n",
      "\n",
      " Build a church at location #819.\n"
     ]
    }
   ],
   "source": [
    "# display optimal values of decision variables\n",
    "tt = []\n",
    "for tower in build.keys():\n",
    "    if (abs(build[tower].x) > 1e-6):\n",
    "        tt.append(tower)\n",
    "        print(f\"\\n Build a church at location #{tower}.\")"
   ]
  },
  {
   "cell_type": "code",
   "execution_count": 28,
   "metadata": {},
   "outputs": [
    {
     "data": {
      "text/plain": [
       "<AxesSubplot:>"
      ]
     },
     "execution_count": 28,
     "metadata": {},
     "output_type": "execute_result"
    },
    {
     "data": {
      "image/png": "[encoded data removed]",
      "text/plain": [
       "<Figure size 432x288 with 1 Axes>"
      ]
     },
     "metadata": {
      "needs_background": "light"
     },
     "output_type": "display_data"
    }
   ],
   "source": [
    "import geopandas as gpd \n",
    "\n",
    "gdf = gpd.read_file('data/grid_for_sites.geojson')\n",
    "gdf.plot(markersize=.1)"
   ]
  },
  {
   "cell_type": "code",
   "execution_count": 31,
   "metadata": {},
   "outputs": [
    {
     "name": "stdout",
     "output_type": "stream",
     "text": [
      "(18, 2)\n"
     ]
    }
   ],
   "source": [
    "sited = gdf.loc[gdf.geo_id.isin(tt)]\n",
    "print(sited.shape)"
   ]
  },
  {
   "cell_type": "code",
   "execution_count": 34,
   "metadata": {},
   "outputs": [],
   "source": [
    "sited.to_file('data/sited_locs.geojson', driver=\"GeoJSON\")"
   ]
  },
  {
   "cell_type": "code",
   "execution_count": 23,
   "metadata": {},
   "outputs": [
    {
     "name": "stdout",
     "output_type": "stream",
     "text": [
      "\n",
      " The population coverage associated to the cell towers build plan is: 83.97 %\n"
     ]
    }
   ],
   "source": [
    "# Percentage of the population covered by the cell towers built is computed as follows.\n",
    "total_population = 0\n",
    "\n",
    "for region in range(len(regions)):\n",
    "    total_population += population[region]\n",
    "\n",
    "coverage = round(100*m.objVal/total_population, 2)\n",
    "\n",
    "print(f\"\\n The population coverage associated to the cell towers build plan is: {coverage} %\")"
   ]
  }
 ],
 "metadata": {
  "interpreter": {
   "hash": "532f7013d99b81ea1f4d0f70d05701c7d0ffc717a4c5e5c3e4d22c91215426e2"
  },
  "kernelspec": {
   "display_name": "Python 3.7.11 ('base')",
   "language": "python",
   "name": "python3"
  },
  "language_info": {
   "codemirror_mode": {
    "name": "ipython",
    "version": 3
   },
   "file_extension": ".py",
   "mimetype": "text/x-python",
   "name": "python",
   "nbconvert_exporter": "python",
   "pygments_lexer": "ipython3",
   "version": "3.7.11"
  },
  "orig_nbformat": 4
 },
 "nbformat": 4,
 "nbformat_minor": 2
}
